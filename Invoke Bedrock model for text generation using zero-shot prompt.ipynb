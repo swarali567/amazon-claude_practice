{
 "cells": [
  {
   "cell_type": "code",
   "execution_count": 1,
   "id": "ff15dde4",
   "metadata": {},
   "outputs": [],
   "source": [
    "import json\n",
    "import os\n",
    "import sys\n",
    "\n",
    "import boto3\n",
    "import botocore\n",
    "\n",
    "boto3_bedrock = boto3.client('bedrock-runtime')"
   ]
  },
  {
   "cell_type": "code",
   "execution_count": 2,
   "id": "e6061013",
   "metadata": {},
   "outputs": [],
   "source": [
    "# create the prompt\n",
    "prompt_data = \"\"\"\n",
    "Command: Write an email from Bob, Customer Service Manager, to the customer \"John Doe\" \n",
    "who provided negative feedback on the service provided by our customer support \n",
    "engineer\"\"\""
   ]
  },
  {
   "cell_type": "code",
   "execution_count": 3,
   "id": "d9dbd4f6",
   "metadata": {},
   "outputs": [],
   "source": [
    "body = json.dumps({\n",
    "    \"inputText\": prompt_data, \n",
    "    \"textGenerationConfig\":{\n",
    "        \"maxTokenCount\":4096,\n",
    "        \"stopSequences\":[],\n",
    "        \"temperature\":0,\n",
    "        \"topP\":0.9\n",
    "        }\n",
    "    }) "
   ]
  },
  {
   "cell_type": "code",
   "execution_count": 4,
   "id": "f18bce34",
   "metadata": {},
   "outputs": [],
   "source": [
    "modelId = 'amazon.titan-tg1-large' # change this to use a different version from the model provider\n",
    "accept = 'application/json'\n",
    "contentType = 'application/json'\n",
    "outputText = \"\\n\"\n",
    "try:\n",
    "\n",
    "    response = boto3_bedrock.invoke_model(body=body, modelId=modelId, accept=accept, contentType=contentType)\n",
    "    response_body = json.loads(response.get('body').read())\n",
    "\n",
    "    outputText = response_body.get('results')[0].get('outputText')\n",
    "\n",
    "except botocore.exceptions.ClientError as error:\n",
    "    \n",
    "    if error.response['Error']['Code'] == 'AccessDeniedException':\n",
    "           print(f\"\\x1b[41m{error.response['Error']['Message']}\\\n",
    "                \\nTo troubeshoot this issue please refer to the following resources.\\\n",
    "                 \\nhttps://docs.aws.amazon.com/IAM/latest/UserGuide/troubleshoot_access-denied.html\\\n",
    "                 \\nhttps://docs.aws.amazon.com/bedrock/latest/userguide/security-iam.html\\x1b[0m\\n\")\n",
    "        \n",
    "    else:\n",
    "        raise error"
   ]
  },
  {
   "cell_type": "code",
   "execution_count": 5,
   "id": "8eaab986",
   "metadata": {},
   "outputs": [
    {
     "name": "stdout",
     "output_type": "stream",
     "text": [
      "Subject: Apology for the inconvenience\n",
      "\n",
      "John Doe,\n",
      "\n",
      "I am writing to express my sincere apologies for the inconvenience you experienced during your recent interaction with our customer support engineer. We understand that your experience was not up to our standards, and we take your feedback seriously.\n",
      "\n",
      "I have thoroughly investigated the matter and identified the areas where we fell short. Our team is taking steps to improve our processes and training to ensure that we provide better service to our customers in the future.\n",
      "\n",
      "I would like to offer you a free replacement or a refund for the product that was affected by the issue. Please let us know which option would be more convenient for you, and we will promptly take care of it.\n",
      "\n",
      "Once again, please accept my sincere apologies for any inconvenience caused. We value your business and hope that you will give us another chance to provide you with excellent service.\n",
      "\n",
      "Sincerely,\n",
      "Bob, Customer Service Manager\n"
     ]
    }
   ],
   "source": [
    "# The relevant portion of the response begins after the first newline character\n",
    "# Below we print the response beginning after the first occurence of '\\n'.\n",
    "\n",
    "email = outputText[outputText.index('\\n')+1:]\n",
    "print(email)"
   ]
  },
  {
   "cell_type": "code",
   "execution_count": 6,
   "id": "6602c3d7",
   "metadata": {},
   "outputs": [
    {
     "name": "stdout",
     "output_type": "stream",
     "text": [
      "\t\t\u001b[31m**Chunk 1**\u001b[0m\n",
      "\n",
      "Subject: Apology for the inconvenience caused\n",
      "\n",
      "Dear John Doe,\n",
      "\n",
      "I hope this email finds you well. I am writing to express my sincere apologies for the inconvenience caused by the service provided by our \n",
      "\n",
      "\t\t\u001b[31m**Chunk 2**\u001b[0m\n",
      "customer support engineer.\n",
      "\n",
      "We value your feedback and take it seriously, and I want to assure you that we are committed to resolving this issue promptly. Our team has thoroughly investigated your concerns, and I want to assure you that we will take the necessary steps to prevent such incidents from happening in the future.\n",
      "\n",
      "I understand that your experience with our\n",
      "\n",
      "\t\t\u001b[31m**Chunk 3**\u001b[0m\n",
      " service has left you feeling frustrated, and I apologize for any distress or inconvenience this may have caused you. We value your business and want to ensure that you have a positive experience with us.\n",
      "\n",
      "Please know that we have already taken measures to address the problem. Our customer support engineer has been disciplined, and we will provide him with additi\n",
      "\n",
      "\t\t\u001b[31m**Chunk 4**\u001b[0m\n",
      "onal training to ensure that he can better serve our customers in the future. We will also be reviewing our processes to identify any areas that need improvement and implement them accordingly.\n",
      "\n",
      "Once again, I apologize for the inconvenience caused. If you have any further concerns or issues, please do not hesitate to contact our customer service team\n",
      "\n",
      "\t\t\u001b[31m**Chunk 5**\u001b[0m\n",
      ". We are here to assist you and provide the best possible service.\n",
      "\n",
      "Thank you for bringing this matter to our attention.\n",
      "\n",
      "Sincerely,\n",
      "Bob\n",
      "Customer Service Manager\n",
      "\n"
     ]
    }
   ],
   "source": [
    "output = []\n",
    "try:\n",
    "    \n",
    "    response = boto3_bedrock.invoke_model_with_response_stream(body=body, modelId=modelId, accept=accept, contentType=contentType)\n",
    "    stream = response.get('body')\n",
    "    \n",
    "    i = 1\n",
    "    if stream:\n",
    "        for event in stream:\n",
    "            chunk = event.get('chunk')\n",
    "            if chunk:\n",
    "                chunk_obj = json.loads(chunk.get('bytes').decode())\n",
    "                text = chunk_obj['outputText']\n",
    "                output.append(text)\n",
    "                print(f'\\t\\t\\x1b[31m**Chunk {i}**\\x1b[0m\\n{text}\\n')\n",
    "                i+=1\n",
    "            \n",
    "except botocore.exceptions.ClientError as error:\n",
    "    \n",
    "    if error.response['Error']['Code'] == 'AccessDeniedException':\n",
    "           print(f\"\\x1b[41m{error.response['Error']['Message']}\\\n",
    "                \\nTo troubeshoot this issue please refer to the following resources.\\\n",
    "                 \\nhttps://docs.aws.amazon.com/IAM/latest/UserGuide/troubleshoot_access-denied.html\\\n",
    "                 \\nhttps://docs.aws.amazon.com/bedrock/latest/userguide/security-iam.html\\x1b[0m\\n\")\n",
    "        \n",
    "    else:\n",
    "        raise error"
   ]
  },
  {
   "cell_type": "code",
   "execution_count": null,
   "id": "008c003e",
   "metadata": {},
   "outputs": [],
   "source": []
  }
 ],
 "metadata": {
  "kernelspec": {
   "display_name": "Python 3 (Data Science 3.0)",
   "language": "python",
   "name": "python3__SAGEMAKER_INTERNAL__arn:aws:sagemaker:us-west-2:236514542706:image/sagemaker-data-science-310-v1"
  },
  "language_info": {
   "codemirror_mode": {
    "name": "ipython",
    "version": 3
   },
   "file_extension": ".py",
   "mimetype": "text/x-python",
   "name": "python",
   "nbconvert_exporter": "python",
   "pygments_lexer": "ipython3",
   "version": "3.10.6"
  }
 },
 "nbformat": 4,
 "nbformat_minor": 5
}
